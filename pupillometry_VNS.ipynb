{
 "cells": [
  {
   "cell_type": "code",
   "execution_count": 2,
   "id": "4c499e6a-a4b7-460a-aea3-b983be2716b6",
   "metadata": {},
   "outputs": [
    {
     "name": "stderr",
     "output_type": "stream",
     "text": [
      "2025-01-23 17:53:06.795186: E external/local_xla/xla/stream_executor/cuda/cuda_fft.cc:477] Unable to register cuFFT factory: Attempting to register factory for plugin cuFFT when one has already been registered\n",
      "WARNING: All log messages before absl::InitializeLog() is called are written to STDERR\n",
      "E0000 00:00:1737672786.859027    3323 cuda_dnn.cc:8310] Unable to register cuDNN factory: Attempting to register factory for plugin cuDNN when one has already been registered\n",
      "E0000 00:00:1737672786.877753    3323 cuda_blas.cc:1418] Unable to register cuBLAS factory: Attempting to register factory for plugin cuBLAS when one has already been registered\n",
      "2025-01-23 17:53:07.004704: I tensorflow/core/platform/cpu_feature_guard.cc:210] This TensorFlow binary is optimized to use available CPU instructions in performance-critical operations.\n",
      "To enable the following instructions: AVX2 FMA, in other operations, rebuild TensorFlow with the appropriate compiler flags.\n"
     ]
    },
    {
     "name": "stdout",
     "output_type": "stream",
     "text": [
      "TensorFlow version: 2.18.0\n"
     ]
    }
   ],
   "source": [
    "import tensorflow as tf\n",
    "print(\"TensorFlow version:\", tf.__version__)\n",
    "import numpy as np\n",
    "import scipy\n",
    "from matplotlib import pyplot as plt\n",
    "import IPython\n",
    "from pathlib import Path\n",
    "import re\n",
    "import pprint\n",
    "import csv"
   ]
  },
  {
   "cell_type": "markdown",
   "id": "b5f96ce5-4e15-460e-a804-a7f3e598ba8f",
   "metadata": {},
   "source": [
    "## Load participant data"
   ]
  },
  {
   "cell_type": "code",
   "execution_count": 8,
   "id": "cd7ae7a4-fd65-480a-b7d3-6e448bb57742",
   "metadata": {},
   "outputs": [
    {
     "name": "stdout",
     "output_type": "stream",
     "text": [
      "Example subject data:\n",
      "610 (age=32)\n",
      "   s\n",
      "     Targets (30, 2401)\n",
      "   v\n",
      "     Targets (30, 2401)\n",
      "578 (age=32)\n",
      "   s\n",
      "     Targets (30, 2401)\n",
      "   v\n",
      "     Targets (30, 2401)\n"
     ]
    }
   ],
   "source": [
    "# Define some expected data categories\n",
    "session_types = ['s', 'v']\n",
    "session_type_regex = '|'.join(session_types)\n",
    "trial_types = ['Targets'] #, 'nonTargets', 'alteredLuminance']\n",
    "\n",
    "# Get list of available data files\n",
    "data_root = Path('pupillometry')\n",
    "data_files = data_root.glob('s*_cleaned_raw.mat')\n",
    "\n",
    "# Get subject demographic info:\n",
    "demographic_data_file = data_root / 'uber_data_20250122.csv'\n",
    "demographic_info = {}\n",
    "int_fields = ['MOCA', 'MOCA_memory', 'NART_raw', 'age', 'diastolic_brachial', 'english_native', 'general_health', 'heart_rate', 'systolic_brachial', 'trailsb', 'years_education']\n",
    "with open(demographic_data_file, mode='r', encoding='utf-8-sig') as file:\n",
    "    csv_reader = csv.DictReader(file)\n",
    "    for row in csv_reader:\n",
    "        subject_num = row['subject']\n",
    "        del row['subject']\n",
    "        demographic_info[subject_num] = row\n",
    "        for int_field in int_fields:\n",
    "            try:\n",
    "                demographic_info[subject_num][int_field] = int(demographic_info[subject_num][int_field])\n",
    "            except ValueError:\n",
    "                pass\n",
    "\n",
    "# Build dictionary of data files organized first by subject number, then by session type\n",
    "data_files_dict = {}\n",
    "for file in data_files:\n",
    "    match = re.search('s([0-9]+)(['+session_type_regex+'])_cleaned_raw\\.mat', file.name)\n",
    "    if match:\n",
    "        subject_num, session_type = match.groups()\n",
    "        if session_type not in session_types:\n",
    "            error('unknown session type:', session_type)\n",
    "        if subject_num in data_files_dict:\n",
    "            data_files_dict[subject_num][session_type] = file\n",
    "        else:\n",
    "            data_files_dict[subject_num] = {session_type:file}\n",
    "\n",
    "# Get list of subjects found\n",
    "subject_nums = list(data_files_dict.keys())\n",
    "\n",
    "# Delete subjects that don't have both a sham and verum session\n",
    "for subject_num in subject_nums:\n",
    "    for session_type in session_types:\n",
    "        if session_type not in data_files_dict[subject_num]:\n",
    "            del data_files_dict[subject_num]\n",
    "            break\n",
    "\n",
    "# Update list of subjects found\n",
    "subject_nums = list(data_files_dict.keys())\n",
    "\n",
    "data = {}\n",
    "for subject_num in subject_nums:\n",
    "    data[subject_num] = {}\n",
    "    for session_type in session_types:\n",
    "        session_data = scipy.io.loadmat(data_files_dict[subject_num][session_type])\n",
    "        data[subject_num][session_type] = {}\n",
    "        for trial_type in trial_types:\n",
    "            data[subject_num][session_type][trial_type] = session_data[trial_type]\n",
    "\n",
    "print('Example subject data:')\n",
    "for subject_num in subject_nums[0:2]:\n",
    "    print(subject_num, '(age='+str(demographic_info[subject_num]['age'])+')')\n",
    "    for session_type in session_types:\n",
    "        print('  ', session_type)\n",
    "        for trial_type in trial_types:\n",
    "            print('    ', trial_type, data[subject_num][session_type][trial_type].shape)"
   ]
  },
  {
   "cell_type": "code",
   "execution_count": 9,
   "id": "a989da2f-5e75-4c33-85f9-c36ea348cd87",
   "metadata": {},
   "outputs": [
    {
     "name": "stdout",
     "output_type": "stream",
     "text": [
      "x_train:\n",
      "(1000, 2401, 10, 1)\n",
      "y_train:\n",
      "(1000,)\n",
      "x_test:\n",
      "(1000, 2401, 10, 1)\n",
      "y_test:\n",
      "(1000,)\n"
     ]
    }
   ],
   "source": [
    "# Make training and test set:\n",
    "nTrain = 1000\n",
    "nTest = 1000\n",
    "\n",
    "num_trials = 10\n",
    "num_trial_types = len(trial_types)\n",
    "trial_length = data[subject_nums[0]][session_types[0]][trial_types[0]].shape[1]\n",
    "input_shape = [trial_length, num_trials, num_trial_types]\n",
    "\n",
    "rng = np.random.default_rng()\n",
    "\n",
    "def grabTrials(session_data):\n",
    "    data = np.zeros(input_shape)\n",
    "    for k, trial_type in enumerate(trial_types):\n",
    "        trial_choices = np.sort(rng.choice(session_data[trial_type].shape[0], size=num_trials, replace=False))\n",
    "        data[:, :, k] = session_data[trial_type][trial_choices, :].T\n",
    "    return data\n",
    "\n",
    "x_train = np.zeros([nTrain]+input_shape)\n",
    "y_train = np.zeros(nTrain, dtype='int')\n",
    "for k in range(nTrain):\n",
    "    subject_num = rng.choice(subject_nums)\n",
    "    session_type_idx = rng.choice(len(session_types))\n",
    "    session_type = session_types[session_type_idx]\n",
    "    session_data = data[subject_num][session_type]\n",
    "    x_train[k, ...] = grabTrials(session_data)\n",
    "    y_train[k] = session_type_idx\n",
    "\n",
    "x_test = np.zeros([nTest]+input_shape)\n",
    "y_test = np.zeros(nTest, dtype='int')\n",
    "for k in range(nTest):\n",
    "    subject_num = rng.choice(subject_nums)\n",
    "    session_type_idx = rng.choice(len(session_types))\n",
    "    session_type = session_types[session_type_idx]\n",
    "    session_data = data[subject_num][session_type]\n",
    "    x_test[k, ...] = grabTrials(session_data)\n",
    "    y_test[k] = session_type_idx\n",
    "\n",
    "print('x_train:')\n",
    "print(x_train.shape)\n",
    "print('y_train:')\n",
    "print(y_train.shape)\n",
    "\n",
    "print('x_test:')\n",
    "print(x_test.shape)\n",
    "print('y_test:')\n",
    "print(y_test.shape)"
   ]
  },
  {
   "cell_type": "code",
   "execution_count": 10,
   "id": "b6043ef4-ccc1-46c9-9d97-f9c486fedb89",
   "metadata": {},
   "outputs": [],
   "source": [
    "model = tf.keras.models.Sequential([\n",
    "    tf.keras.layers.Input((2401, 10)),\n",
    "    tf.keras.layers.LSTM(64),\n",
    "    tf.keras.layers.Dense(2)\n",
    "])\n",
    "loss_fn = tf.keras.losses.SparseCategoricalCrossentropy(from_logits=True)\n",
    "model.compile(optimizer='adam',\n",
    "              loss=loss_fn,\n",
    "              metrics=['accuracy'])\n"
   ]
  },
  {
   "cell_type": "code",
   "execution_count": 11,
   "id": "a2314cdb-1768-4b16-b374-8c841e63024d",
   "metadata": {},
   "outputs": [
    {
     "data": {
      "text/html": [
       "<pre style=\"white-space:pre;overflow-x:auto;line-height:normal;font-family:Menlo,'DejaVu Sans Mono',consolas,'Courier New',monospace\"><span style=\"font-weight: bold\">Model: \"sequential_1\"</span>\n",
       "</pre>\n"
      ],
      "text/plain": [
       "\u001b[1mModel: \"sequential_1\"\u001b[0m\n"
      ]
     },
     "metadata": {},
     "output_type": "display_data"
    },
    {
     "data": {
      "text/html": [
       "<pre style=\"white-space:pre;overflow-x:auto;line-height:normal;font-family:Menlo,'DejaVu Sans Mono',consolas,'Courier New',monospace\">┏━━━━━━━━━━━━━━━━━━━━━━━━━━━━━━━━━┳━━━━━━━━━━━━━━━━━━━━━━━━┳━━━━━━━━━━━━━━━┓\n",
       "┃<span style=\"font-weight: bold\"> Layer (type)                    </span>┃<span style=\"font-weight: bold\"> Output Shape           </span>┃<span style=\"font-weight: bold\">       Param # </span>┃\n",
       "┡━━━━━━━━━━━━━━━━━━━━━━━━━━━━━━━━━╇━━━━━━━━━━━━━━━━━━━━━━━━╇━━━━━━━━━━━━━━━┩\n",
       "│ lstm_1 (<span style=\"color: #0087ff; text-decoration-color: #0087ff\">LSTM</span>)                   │ (<span style=\"color: #00d7ff; text-decoration-color: #00d7ff\">None</span>, <span style=\"color: #00af00; text-decoration-color: #00af00\">64</span>)             │        <span style=\"color: #00af00; text-decoration-color: #00af00\">19,200</span> │\n",
       "├─────────────────────────────────┼────────────────────────┼───────────────┤\n",
       "│ dense_1 (<span style=\"color: #0087ff; text-decoration-color: #0087ff\">Dense</span>)                 │ (<span style=\"color: #00d7ff; text-decoration-color: #00d7ff\">None</span>, <span style=\"color: #00af00; text-decoration-color: #00af00\">2</span>)              │           <span style=\"color: #00af00; text-decoration-color: #00af00\">130</span> │\n",
       "└─────────────────────────────────┴────────────────────────┴───────────────┘\n",
       "</pre>\n"
      ],
      "text/plain": [
       "┏━━━━━━━━━━━━━━━━━━━━━━━━━━━━━━━━━┳━━━━━━━━━━━━━━━━━━━━━━━━┳━━━━━━━━━━━━━━━┓\n",
       "┃\u001b[1m \u001b[0m\u001b[1mLayer (type)                   \u001b[0m\u001b[1m \u001b[0m┃\u001b[1m \u001b[0m\u001b[1mOutput Shape          \u001b[0m\u001b[1m \u001b[0m┃\u001b[1m \u001b[0m\u001b[1m      Param #\u001b[0m\u001b[1m \u001b[0m┃\n",
       "┡━━━━━━━━━━━━━━━━━━━━━━━━━━━━━━━━━╇━━━━━━━━━━━━━━━━━━━━━━━━╇━━━━━━━━━━━━━━━┩\n",
       "│ lstm_1 (\u001b[38;5;33mLSTM\u001b[0m)                   │ (\u001b[38;5;45mNone\u001b[0m, \u001b[38;5;34m64\u001b[0m)             │        \u001b[38;5;34m19,200\u001b[0m │\n",
       "├─────────────────────────────────┼────────────────────────┼───────────────┤\n",
       "│ dense_1 (\u001b[38;5;33mDense\u001b[0m)                 │ (\u001b[38;5;45mNone\u001b[0m, \u001b[38;5;34m2\u001b[0m)              │           \u001b[38;5;34m130\u001b[0m │\n",
       "└─────────────────────────────────┴────────────────────────┴───────────────┘\n"
      ]
     },
     "metadata": {},
     "output_type": "display_data"
    },
    {
     "data": {
      "text/html": [
       "<pre style=\"white-space:pre;overflow-x:auto;line-height:normal;font-family:Menlo,'DejaVu Sans Mono',consolas,'Courier New',monospace\"><span style=\"font-weight: bold\"> Total params: </span><span style=\"color: #00af00; text-decoration-color: #00af00\">19,330</span> (75.51 KB)\n",
       "</pre>\n"
      ],
      "text/plain": [
       "\u001b[1m Total params: \u001b[0m\u001b[38;5;34m19,330\u001b[0m (75.51 KB)\n"
      ]
     },
     "metadata": {},
     "output_type": "display_data"
    },
    {
     "data": {
      "text/html": [
       "<pre style=\"white-space:pre;overflow-x:auto;line-height:normal;font-family:Menlo,'DejaVu Sans Mono',consolas,'Courier New',monospace\"><span style=\"font-weight: bold\"> Trainable params: </span><span style=\"color: #00af00; text-decoration-color: #00af00\">19,330</span> (75.51 KB)\n",
       "</pre>\n"
      ],
      "text/plain": [
       "\u001b[1m Trainable params: \u001b[0m\u001b[38;5;34m19,330\u001b[0m (75.51 KB)\n"
      ]
     },
     "metadata": {},
     "output_type": "display_data"
    },
    {
     "data": {
      "text/html": [
       "<pre style=\"white-space:pre;overflow-x:auto;line-height:normal;font-family:Menlo,'DejaVu Sans Mono',consolas,'Courier New',monospace\"><span style=\"font-weight: bold\"> Non-trainable params: </span><span style=\"color: #00af00; text-decoration-color: #00af00\">0</span> (0.00 B)\n",
       "</pre>\n"
      ],
      "text/plain": [
       "\u001b[1m Non-trainable params: \u001b[0m\u001b[38;5;34m0\u001b[0m (0.00 B)\n"
      ]
     },
     "metadata": {},
     "output_type": "display_data"
    }
   ],
   "source": [
    "probabilities = tf.nn.softmax(model(x_train[:1]).numpy())\n",
    "probabilities\n",
    "model.summary()"
   ]
  },
  {
   "cell_type": "code",
   "execution_count": null,
   "id": "f9fcf209-3948-4495-8307-fbe35fd3c6de",
   "metadata": {},
   "outputs": [
    {
     "name": "stdout",
     "output_type": "stream",
     "text": [
      "**** Training: ****\n",
      "Epoch 1/50\n"
     ]
    },
    {
     "name": "stderr",
     "output_type": "stream",
     "text": [
      "2025-01-23 17:54:29.713253: W external/local_xla/xla/tsl/framework/cpu_allocator_impl.cc:83] Allocation of 96040000 exceeds 10% of free system memory.\n"
     ]
    },
    {
     "name": "stdout",
     "output_type": "stream",
     "text": [
      "\u001b[1m32/32\u001b[0m \u001b[32m━━━━━━━━━━━━━━━━━━━━\u001b[0m\u001b[37m\u001b[0m \u001b[1m17s\u001b[0m 493ms/step - accuracy: 0.5014 - loss: 0.6997\n",
      "Epoch 2/50\n",
      "\u001b[1m32/32\u001b[0m \u001b[32m━━━━━━━━━━━━━━━━━━━━\u001b[0m\u001b[37m\u001b[0m \u001b[1m16s\u001b[0m 492ms/step - accuracy: 0.5316 - loss: 0.6898\n",
      "Epoch 3/50\n",
      "\u001b[1m32/32\u001b[0m \u001b[32m━━━━━━━━━━━━━━━━━━━━\u001b[0m\u001b[37m\u001b[0m \u001b[1m16s\u001b[0m 493ms/step - accuracy: 0.5300 - loss: 0.6953\n",
      "Epoch 4/50\n",
      "\u001b[1m32/32\u001b[0m \u001b[32m━━━━━━━━━━━━━━━━━━━━\u001b[0m\u001b[37m\u001b[0m \u001b[1m16s\u001b[0m 493ms/step - accuracy: 0.5507 - loss: 0.6818\n",
      "Epoch 5/50\n",
      "\u001b[1m32/32\u001b[0m \u001b[32m━━━━━━━━━━━━━━━━━━━━\u001b[0m\u001b[37m\u001b[0m \u001b[1m16s\u001b[0m 492ms/step - accuracy: 0.5098 - loss: 0.6897\n",
      "Epoch 6/50\n",
      "\u001b[1m28/32\u001b[0m \u001b[32m━━━━━━━━━━━━━━━━━\u001b[0m\u001b[37m━━━\u001b[0m \u001b[1m1s\u001b[0m 497ms/step - accuracy: 0.5451 - loss: 0.6815 "
     ]
    }
   ],
   "source": [
    "print('**** Training: ****')\n",
    "model.fit(x_train, y_train, epochs=50)\n",
    "print()\n",
    "print('**** Testing: ****')\n",
    "model.evaluate(x_test,  y_test, verbose=1)"
   ]
  },
  {
   "cell_type": "code",
   "execution_count": 20,
   "id": "8e3d27f7-f437-4bc5-bf64-6bee9559ee11",
   "metadata": {},
   "outputs": [
    {
     "data": {
      "image/png": "[encoded data removed]",
      "text/plain": [
       "<Figure size 640x480 with 1 Axes>"
      ]
     },
     "metadata": {},
     "output_type": "display_data"
    },
    {
     "name": "stdout",
     "output_type": "stream",
     "text": [
      "Predicted freq:    635.2 Hz\n",
      "Actual freq:       637.5 Hz\n",
      "Frequency error:   2.3 Hz\n",
      "Frequency % error: 0.4%\n"
     ]
    }
   ],
   "source": [
    "# Interactive random test:\n",
    "\n",
    "k = np.random.randint(0, x_test.shape[0])\n",
    "x = x_test[k, np.newaxis, :]\n",
    "\n",
    "plt.plot(t[0:100], x[0, 0:100])\n",
    "plt.show()\n",
    "\n",
    "predictedFreq = model(x).numpy()[0]\n",
    "print('Predicted freq:    {f:.01f} Hz'.format(f=predictedFreq[0]))\n",
    "print('Actual freq:       {f:.01f} Hz'.format(f=y_test[k]))\n",
    "print('Frequency error:   {f:.01f} Hz'.format(f=abs(predictedFreq[0] - y_test[k])))\n",
    "print('Frequency % error: {f:.01f}%'.format(f=100*abs(predictedFreq[0] - y_test[k])/y_test[k]))\n"
   ]
  },
  {
   "cell_type": "code",
   "execution_count": 118,
   "id": "cf9ec606-3ad6-4d68-9769-d2b3989ec342",
   "metadata": {},
   "outputs": [],
   "source": [
    "#Model record:"
   ]
  },
  {
   "cell_type": "code",
   "execution_count": null,
   "id": "dd47a6ff-64b0-4b14-9355-82b1d2821720",
   "metadata": {},
   "outputs": [],
   "source": [
    "# 61%\n",
    "model = tf.keras.models.Sequential([\n",
    "  tf.keras.layers.Input(input_shape),\n",
    "  tf.keras.layers.Conv2D(10, (1, 50), dilation_rate=(1, 10)),\n",
    "  tf.keras.layers.Flatten(),\n",
    "  tf.keras.layers.Dense(128, activation='relu'),\n",
    "  tf.keras.layers.Dense(128, activation='relu'),\n",
    "  tf.keras.layers.Dense(len(session_types))\n",
    "])\n",
    "loss_fn = tf.keras.losses.SparseCategoricalCrossentropy(from_logits=True)\n",
    "model.compile(optimizer='adam',\n",
    "              loss=loss_fn,\n",
    "              metrics=['accuracy'])\n",
    "\n",
    "# 65%:\n",
    "model = tf.keras.models.Sequential([\n",
    "  tf.keras.layers.Input(input_shape),\n",
    "  tf.keras.layers.Conv2D(10, (1, 50), dilation_rate=(1, 10)),\n",
    "  tf.keras.layers.Conv2D(6, (1, 10), dilation_rate=(1, 5)),\n",
    "  tf.keras.layers.Flatten(),\n",
    "  tf.keras.layers.Dense(128, activation='relu'),\n",
    "  tf.keras.layers.Dense(128, activation='relu'),\n",
    "  tf.keras.layers.Dense(len(session_types))\n",
    "])\n",
    "loss_fn = tf.keras.losses.SparseCategoricalCrossentropy(from_logits=True)\n",
    "model.compile(optimizer='adam',\n",
    "              loss=loss_fn,\n",
    "              metrics=['accuracy'])\n",
    "\n",
    "# 40 epochs => 68%:\n",
    "model = tf.keras.models.Sequential([\n",
    "  tf.keras.layers.Input(input_shape),\n",
    "  tf.keras.layers.Conv2D(10, (1, 50), dilation_rate=(1, 10)),\n",
    "  tf.keras.layers.Conv2D(3, (1, 10)),\n",
    "  tf.keras.layers.Flatten(),\n",
    "  tf.keras.layers.Dense(128, activation='relu'),\n",
    "  tf.keras.layers.Dense(128, activation='relu'),\n",
    "  tf.keras.layers.Dense(len(session_types))\n",
    "])\n",
    "loss_fn = tf.keras.losses.SparseCategoricalCrossentropy(from_logits=True)\n",
    "model.compile(optimizer='adam',\n",
    "              loss=loss_fn,\n",
    "              metrics=['accuracy'])\n",
    "\n",
    "# 20 epochs => 49%\n",
    "model = tf.keras.models.Sequential([\n",
    "  tf.keras.layers.Input(input_shape),\n",
    "  tf.keras.layers.Conv2D(10, (1, 50), dilation_rate=(1, 10)),\n",
    "  tf.keras.layers.Conv2D(20, (1, 10)),\n",
    "  tf.keras.layers.MaxPool2D((1, 10)),\n",
    "  tf.keras.layers.Conv2D(30, (1, 10)),\n",
    "  tf.keras.layers.MaxPool2D((1, 2)),\n",
    "  tf.keras.layers.Flatten(),\n",
    "  tf.keras.layers.Dense(128, activation='relu'),\n",
    "  tf.keras.layers.Dropout(0.05),\n",
    "  tf.keras.layers.Dense(128, activation='relu'),\n",
    "  tf.keras.layers.Dense(len(session_types))\n",
    "])\n",
    "loss_fn = tf.keras.losses.SparseCategoricalCrossentropy(from_logits=True)\n",
    "model.compile(optimizer='adam',\n",
    "              loss=loss_fn,\n",
    "              metrics=['accuracy'])\n",
    "\n",
    "# Target trials only\n",
    "# 110 epochs => \n",
    "model = tf.keras.models.Sequential([\n",
    "  tf.keras.layers.Input(input_shape),\n",
    "  tf.keras.layers.Conv1D(10, 50, dilation_rate=10),\n",
    "  tf.keras.layers.Conv1D(3, 10),\n",
    "  tf.keras.layers.Flatten(),\n",
    "  tf.keras.layers.Dense(128, activation='relu'),\n",
    "  tf.keras.layers.Dense(128, activation='relu'),\n",
    "  tf.keras.layers.Dense(len(session_types))\n",
    "])\n",
    "loss_fn = tf.keras.losses.SparseCategoricalCrossentropy(from_logits=True)\n",
    "model.compile(optimizer='adam',\n",
    "              loss=loss_fn,\n",
    "              metrics=['accuracy'])"
   ]
  },
  {
   "cell_type": "code",
   "execution_count": null,
   "id": "575af1f4-33cd-4f8b-96ec-3005601c162a",
   "metadata": {},
   "outputs": [],
   "source": []
  }
 ],
 "metadata": {
  "kernelspec": {
   "display_name": "Python 3 (ipykernel)",
   "language": "python",
   "name": "python3"
  },
  "language_info": {
   "codemirror_mode": {
    "name": "ipython",
    "version": 3
   },
   "file_extension": ".py",
   "mimetype": "text/x-python",
   "name": "python",
   "nbconvert_exporter": "python",
   "pygments_lexer": "ipython3",
   "version": "3.10.12"
  }
 },
 "nbformat": 4,
 "nbformat_minor": 5
}
